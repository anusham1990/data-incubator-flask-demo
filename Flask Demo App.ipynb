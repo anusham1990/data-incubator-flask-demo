{
 "cells": [
  {
   "cell_type": "code",
   "execution_count": 15,
   "metadata": {
    "collapsed": true
   },
   "outputs": [],
   "source": [
    "# Imports"
   ]
  },
  {
   "cell_type": "code",
   "execution_count": 16,
   "metadata": {},
   "outputs": [],
   "source": [
    "#import os\n",
    "import bokeh\n",
    "from bokeh.plotting import figure, output_file, show\n",
    "from bokeh.models import ColumnDataSource\n",
    "from bokeh.embed import components\n",
    "from bokeh.resources import CDN\n",
    "from flask import Flask, render_template, request, redirect\n",
    "import numpy as np \n",
    "import pandas as pd\n",
    "import requests"
   ]
  },
  {
   "cell_type": "code",
   "execution_count": 17,
   "metadata": {
    "collapsed": true
   },
   "outputs": [],
   "source": [
    "# Gathering Data "
   ]
  },
  {
   "cell_type": "code",
   "execution_count": 18,
   "metadata": {
    "scrolled": false
   },
   "outputs": [
    {
     "name": "stdout",
     "output_type": "stream",
     "text": [
      "               Open     High      Low    Close     Volume       Date\n",
      "2020-02-28  85.5500  92.4400  73.3400  78.3000  220392367 2020-02-28\n",
      "2020-03-31  79.0150  82.6500  58.0000  67.6500  322114348 2020-03-31\n",
      "2020-04-30  65.0000  80.8700  64.5500  78.6700  215849377 2020-04-30\n",
      "2020-05-29  76.8500  81.9600  74.0900  80.8800  198186967 2020-05-29\n",
      "2020-06-26  79.8900  92.1400  79.2400  88.0200  207519690 2020-06-26\n",
      "               Open     High      Low    Close     Volume       Date\n",
      "2020-02-28  64.4550  68.0900  53.6000  55.5200  441561383 2020-02-28\n",
      "2020-03-31  55.7900  59.0200  43.6300  54.1200  961068384 2020-03-31\n",
      "2020-04-30  52.5000  62.1300  51.2200  59.9800  617700468 2020-04-30\n",
      "2020-05-29  58.8300  64.1400  56.1000  62.9300  409267014 2020-05-29\n",
      "2020-06-26  62.4851  65.1100  57.0700  57.5000  516880000 2020-06-26\n",
      "               Open     High      Low    Close     Volume       Date\n",
      "2020-02-28  35.0000  37.7200  32.7800  35.7800  156590479 2020-02-28\n",
      "2020-03-31  37.0000  38.7800  30.2000  36.0300  191779901 2020-03-31\n",
      "2020-04-30  35.7300  53.6700  33.9000  47.4400  166467645 2020-04-30\n",
      "2020-05-29  46.5500  69.6900  44.8000  66.8700  192203668 2020-05-29\n",
      "2020-06-26  65.9100  89.2500  64.8000  85.1600  184749037 2020-06-26\n"
     ]
    }
   ],
   "source": [
    "API_URL = \"https://www.alphavantage.co/query\" \n",
    "symbols =  ['QCOM',\"INTC\",\"PDD\"]\n",
    "\n",
    "time_data = {}\n",
    "\n",
    "for symbol in symbols:\n",
    "    data = { \"function\": \"TIME_SERIES_MONTHLY\", \n",
    "    \"symbol\": symbol,\n",
    "    \"outputsize\" : \"full\",\n",
    "    \"datatype\": \"json\", \n",
    "    \"apikey\": \"WNZNE5X63OBPP78N\" } \n",
    "\n",
    "    response = requests.get(API_URL, data) \n",
    "    response_json = response.json()\n",
    "    #print(response_json)\n",
    "    data = pd.DataFrame.from_dict(response_json['Monthly Time Series'], orient= 'index').sort_index(axis=1)\n",
    "    data = data.rename(columns={ '1. open': 'Open', '2. high': 'High', '3. low': 'Low', '4. close': 'Close', '5. volume': 'Volume'})\n",
    "    data = data[[ 'Open', 'High', 'Low', 'Close', 'Volume']]\n",
    "    data['Date'] = pd.to_datetime(data.index)\n",
    "    time_data[symbol] = data\n",
    "    print(data.tail()) # check OK or not # data.tail()"
   ]
  },
  {
   "cell_type": "code",
   "execution_count": 19,
   "metadata": {},
   "outputs": [
    {
     "name": "stdout",
     "output_type": "stream",
     "text": [
      "<class 'pandas.core.frame.DataFrame'>\n",
      "Index: 240 entries, 2000-07-31 to 2020-06-26\n",
      "Data columns (total 6 columns):\n",
      "Open      240 non-null object\n",
      "High      240 non-null object\n",
      "Low       240 non-null object\n",
      "Close     240 non-null object\n",
      "Volume    240 non-null object\n",
      "Date      240 non-null datetime64[ns]\n",
      "dtypes: datetime64[ns](1), object(5)\n",
      "memory usage: 13.1+ KB\n"
     ]
    }
   ],
   "source": [
    "time_data['INTC'].info()"
   ]
  },
  {
   "cell_type": "code",
   "execution_count": 20,
   "metadata": {
    "collapsed": true
   },
   "outputs": [],
   "source": [
    "# Function to plot graph"
   ]
  },
  {
   "cell_type": "code",
   "execution_count": 21,
   "metadata": {
    "collapsed": true
   },
   "outputs": [],
   "source": [
    "def plot_price(symbol):\n",
    "    \n",
    "    #output_file(\"line.html\")\n",
    "\n",
    "    source = ColumnDataSource(time_data[symbol])\n",
    "    \n",
    "    p = figure(x_axis_type = 'datetime') #p = figure(plot_width=400, plot_height=400\n",
    "    p.line(x = 'Date', y = 'Open', source = source,  legend = symbol + \" \" + 'Open' , color = 'red' ) \n",
    "    p.line(x = 'Date', y = 'High', source = source,  legend = symbol + \" \" + 'High' , color = 'green')\n",
    "    p.line(x = 'Date', y = 'Low' , source = source,  legend = symbol + \" \" + 'Low'  , color = 'yellow') \n",
    "    p.line(x = 'Date', y = 'Close',source = source,  legend = symbol + \" \" + 'Close', color = 'blue') \n",
    "    p.yaxis.axis_label = 'Stock Price'\n",
    "    p.xaxis.axis_label = 'Date'\n",
    "    \n",
    "    #html = file_html(p, \"line.html\")\n",
    "    #show(p)\n",
    "    return p\n",
    "\n",
    "#symbol = 'QCOM' # 'INTC', 'PDD'\n",
    "#plot_price(symbol)"
   ]
  },
  {
   "cell_type": "code",
   "execution_count": 22,
   "metadata": {
    "collapsed": true
   },
   "outputs": [],
   "source": [
    "# Flask app"
   ]
  },
  {
   "cell_type": "code",
   "execution_count": 23,
   "metadata": {},
   "outputs": [
    {
     "name": "stderr",
     "output_type": "stream",
     "text": [
      " * Running on http://127.0.0.1:5000/ (Press CTRL+C to quit)\n"
     ]
    }
   ],
   "source": [
    "app = Flask(__name__)\n",
    "app.vars={}\n",
    "\n",
    "@app.route('/')\n",
    "def main():\n",
    "    return redirect('/home')\n",
    "\n",
    "@app.route('/home', methods = ['GET','POST'])\n",
    "def home():\n",
    "    if request.method=='GET':\n",
    "        return render_template('basic.html')\n",
    "    else:\n",
    "        app.vars['company'] = request.form['options']\n",
    "        return redirect('/results')\n",
    "\n",
    "@app.route('/results', methods = ['GET','POST'])\n",
    "def results():\n",
    "    if request.method=='GET':\n",
    "        company = app.vars['company']\n",
    "        return render_template('results.html', company = company)\n",
    "    else:\n",
    "        app.vars['company'] = request.form['options']\n",
    "        return redirect('/results')\n",
    "\n",
    "@app.route('/bokehPlot', methods = ['GET'])\n",
    "def bokehPlot():\n",
    "    company = app.vars['company']\n",
    "    script, div = components(plot_price(company))\n",
    "    return \"\"\"\n",
    "    <!doctype html>\n",
    "    <head>\n",
    "        {bokeh_css}\n",
    "    </head>\n",
    "    <body>\n",
    "        {div}\n",
    "        {bokeh_js}\n",
    "        {script}\n",
    "    </body>\n",
    "    \"\"\".format(script=script, div=div, bokeh_css=CDN.render_css(), bokeh_js=CDN.render_js())\n",
    "\n",
    "if __name__ == '__main__':\n",
    "    app.run()"
   ]
  },
  {
   "cell_type": "code",
   "execution_count": null,
   "metadata": {
    "collapsed": true
   },
   "outputs": [],
   "source": []
  }
 ],
 "metadata": {
  "kernelspec": {
   "display_name": "Python 3",
   "language": "python",
   "name": "python3"
  },
  "language_info": {
   "codemirror_mode": {
    "name": "ipython",
    "version": 3
   },
   "file_extension": ".py",
   "mimetype": "text/x-python",
   "name": "python",
   "nbconvert_exporter": "python",
   "pygments_lexer": "ipython3",
   "version": "3.6.3"
  }
 },
 "nbformat": 4,
 "nbformat_minor": 2
}
